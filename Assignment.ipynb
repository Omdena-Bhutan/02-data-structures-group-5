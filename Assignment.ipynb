{
  "nbformat": 4,
  "nbformat_minor": 0,
  "metadata": {
    "colab": {
      "provenance": [],
      "authorship_tag": "ABX9TyPz4PoCDCuaa910/W4+//hq",
      "include_colab_link": true
    },
    "kernelspec": {
      "name": "python3",
      "display_name": "Python 3"
    },
    "language_info": {
      "name": "python"
    }
  },
  "cells": [
    {
      "cell_type": "markdown",
      "metadata": {
        "id": "view-in-github",
        "colab_type": "text"
      },
      "source": [
        "<a href=\"https://colab.research.google.com/github/Omdena-Bhutan/02-data-structures-group-5/blob/main/Assignment.ipynb\" target=\"_parent\"><img src=\"https://colab.research.google.com/assets/colab-badge.svg\" alt=\"Open In Colab\"/></a>"
      ]
    },
    {
      "cell_type": "markdown",
      "source": [
        "# **TASK 1: Dictionary**"
      ],
      "metadata": {
        "id": "xk0VqKj36_Qr"
      }
    },
    {
      "cell_type": "code",
      "execution_count": 6,
      "metadata": {
        "colab": {
          "base_uri": "https://localhost:8080/"
        },
        "id": "VQOCDRl_6awk",
        "outputId": "10ec39b4-e4ae-430f-9200-7645f90cb7a1"
      },
      "outputs": [
        {
          "output_type": "stream",
          "name": "stdout",
          "text": [
            "Charcater \"Alistair the Brave\" is on level 1\n",
            "{'name': 'Alistair the Brave', 'level': 1, 'health': 85, 'mana': 50, 'gold': 50.75, 'is_alive': True, 'experience': 0}\n"
          ]
        }
      ],
      "source": [
        "# Create a dictionary named character_profile to store Alistair's basic information.\n",
        "character_profile = {\n",
        "    'name': 'Alistair the Brave',\n",
        "    'level': 1,\n",
        "    'health': 100,\n",
        "    'mana': 50,\n",
        "    'gold': 50.75,\n",
        "    'is_alive': True\n",
        "}\n",
        "\n",
        "# 1. Print the character's name and level in a formatted string.\n",
        "print(f'Charcater \"{character_profile['name']}\" is on level {character_profile['level']}')\n",
        "\n",
        "# 2. Update the character's health to 85.\n",
        "character_profile['health'] = 85\n",
        "\n",
        "# 3. Add a new key-value pair for 'experience' with a value of 0.\n",
        "character_profile['experience'] = 0\n",
        "\n",
        "# 4. Print the final character_profile dictionary to the console.\n",
        "print(character_profile)"
      ]
    },
    {
      "cell_type": "markdown",
      "source": [
        "# **TASK 2: Lists**"
      ],
      "metadata": {
        "id": "UIKgMTsw7GT8"
      }
    },
    {
      "cell_type": "code",
      "source": [
        "#1. Initialize the list with a few items, for example: ['sword', 'shield', 'health potion'].\n",
        "inventory = ['sword', 'shield', 'health potion']\n",
        "\n",
        "# 2. Add a new item to the inventory (e.g., 'mana potion').\n",
        "inventory.append('mana potion')\n",
        "\n",
        "# 3. Remove an existing item from the inventory (e.g., 'shield').\n",
        "inventory.remove('shield')\n",
        "\n",
        "# 4. Use a for loop to iterate through the inventory list and print each item.\n",
        "for item in inventory:\n",
        "    print(item)"
      ],
      "metadata": {
        "colab": {
          "base_uri": "https://localhost:8080/"
        },
        "id": "TwtZWd7X6vZX",
        "outputId": "28170a06-7308-412e-952a-1c6a37e02fba"
      },
      "execution_count": 2,
      "outputs": [
        {
          "output_type": "stream",
          "name": "stdout",
          "text": [
            "sword\n",
            "health potion\n",
            "mana potion\n"
          ]
        }
      ]
    },
    {
      "cell_type": "markdown",
      "source": [
        "# **TASK 3: Tuples**"
      ],
      "metadata": {
        "id": "yHdJid_E7MZH"
      }
    },
    {
      "cell_type": "code",
      "source": [
        "# Create a tuple named base_stats to store Alistair's base attributes.\n",
        "strength = 9\n",
        "dexterity = 6\n",
        "intelligence = 8\n",
        "base_stats = (strength, dexterity, intelligence)\n",
        "\n",
        "# 1. Print a statement explaining why a tuple is a good choice for base stats (because they are immutable and won't change).\n",
        "print(\"Tuple is a good choice for base stats becuase the value won't change once the charracter is created.\")\n",
        "\n",
        "# 2. Access and print the value of intelligence from the base_stats tuple.\n",
        "print(base_stats[2])\n",
        "\n",
        "# Try to change one of the values in the tuple. Observe and explain the error you receive.\n",
        "# base_stats[1] = 20\n",
        "print(base_stats)\n",
        "#  We received TypeError: 'tuple' object does not support item assignment since tuple values cannot be changed once assigned or created."
      ],
      "metadata": {
        "colab": {
          "base_uri": "https://localhost:8080/"
        },
        "id": "HyacAXjm6yXr",
        "outputId": "f8c40dbd-ae9a-424b-c566-2d05476c5c13"
      },
      "execution_count": 3,
      "outputs": [
        {
          "output_type": "stream",
          "name": "stdout",
          "text": [
            "Tuple is a good choice for base stats becuase the value won't change once the charracter is created.\n",
            "8\n",
            "(9, 6, 8)\n"
          ]
        }
      ]
    },
    {
      "cell_type": "markdown",
      "source": [
        "# **TASK 4: Sets**"
      ],
      "metadata": {
        "id": "sKD-H2td7YBl"
      }
    },
    {
      "cell_type": "code",
      "source": [
        "# 1. Initialize the set with a few quests\n",
        "quest_log = {'Defeat the Goblin King', 'Find the Lost Amulet', 'Get Rich'}\n",
        "\n",
        "# 2. Add a new quest to the log\n",
        "quest_log.add('Deliver the Old Scroll and sell it')\n",
        "\n",
        "# 3. Add a quest that is already in the set.\n",
        "quest_log.add('Defeat the Goblin King')\n",
        "print(quest_log)\n",
        "# {'Get Rich', 'Find the Lost Amulet', 'Deliver the Old Scroll and sell it', 'Defeat the Goblin King'}\n",
        "\n",
        "# 4. Remove a completed quest from the log\n",
        "quest_log.remove('Get Rich')\n",
        "\n",
        "# 5. Print the final quest_log set\n",
        "print(quest_log)\n",
        "# {'Defeat the Goblin King', 'Find the Lost Amulet', 'Deliver the Old Scroll and sell it'}"
      ],
      "metadata": {
        "colab": {
          "base_uri": "https://localhost:8080/"
        },
        "id": "zRccYOMq60nF",
        "outputId": "02890000-3064-4812-879a-98bfc4ac4c73"
      },
      "execution_count": 9,
      "outputs": [
        {
          "output_type": "stream",
          "name": "stdout",
          "text": [
            "{'Find the Lost Amulet', 'Deliver the Old Scroll and sell it', 'Get Rich', 'Defeat the Goblin King'}\n",
            "{'Find the Lost Amulet', 'Deliver the Old Scroll and sell it', 'Defeat the Goblin King'}\n"
          ]
        }
      ]
    },
    {
      "cell_type": "markdown",
      "source": [
        "# **TASK 5: Putting it all together**"
      ],
      "metadata": {
        "id": "YWHWFPcL7b_j"
      }
    },
    {
      "cell_type": "code",
      "source": [
        "# Create a dictionary named character_sheet.\n",
        "character_sheet = {\n",
        "    'profile': character_profile,\n",
        "    'inventory': inventory,\n",
        "    'stats': base_stats,\n",
        "    'quests': quest_log\n",
        "}\n",
        "\n",
        "# Print the entire character_sheet to demonstrate how different data structures can be nested within each other.\n",
        "print(character_sheet)"
      ],
      "metadata": {
        "colab": {
          "base_uri": "https://localhost:8080/"
        },
        "id": "v5EDVcSE62E6",
        "outputId": "0d06d707-221b-4766-a71d-dd7192a39d86"
      },
      "execution_count": 5,
      "outputs": [
        {
          "output_type": "stream",
          "name": "stdout",
          "text": [
            "{'profile': {'name': 'Alistair the Brave', 'level': 1, 'health': 85, 'mana': 50, 'gold': 50.75, 'is_alive': True, 'experience': 0}, 'inventory': ['sword', 'health potion', 'mana potion'], 'stats': (9, 6, 8), 'quests': {'Find the Lost Amulet', 'Deliver the Old Scroll and sell it', 'Defeat the Goblin King'}}\n"
          ]
        }
      ]
    }
  ]
}