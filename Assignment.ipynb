{
  "nbformat": 4,
  "nbformat_minor": 0,
  "metadata": {
    "colab": {
      "provenance": [],
      "authorship_tag": "ABX9TyMm3YIuD6r0SfnjrCbUQuzz",
      "include_colab_link": true
    },
    "kernelspec": {
      "name": "python3",
      "display_name": "Python 3"
    },
    "language_info": {
      "name": "python"
    }
  },
  "cells": [
    {
      "cell_type": "markdown",
      "metadata": {
        "id": "view-in-github",
        "colab_type": "text"
      },
      "source": [
        "<a href=\"https://colab.research.google.com/github/Omdena-Bhutan/02-data-structures-group-5/blob/main/Assignment.ipynb\" target=\"_parent\"><img src=\"https://colab.research.google.com/assets/colab-badge.svg\" alt=\"Open In Colab\"/></a>"
      ]
    },
    {
      "cell_type": "markdown",
      "source": [
        "# **TASK 1: Dictionary**"
      ],
      "metadata": {
        "id": "xk0VqKj36_Qr"
      }
    },
    {
      "cell_type": "code",
      "execution_count": 6,
      "metadata": {
        "colab": {
          "base_uri": "https://localhost:8080/"
        },
        "id": "VQOCDRl_6awk",
        "outputId": "10ec39b4-e4ae-430f-9200-7645f90cb7a1"
      },
      "outputs": [
        {
          "output_type": "stream",
          "name": "stdout",
          "text": [
            "Charcater \"Alistair the Brave\" is on level 1\n",
            "{'name': 'Alistair the Brave', 'level': 1, 'health': 85, 'mana': 50, 'gold': 50.75, 'is_alive': True, 'experience': 0}\n"
          ]
        }
      ],
      "source": [
        "# Create a dictionary named character_profile to store Alistair's basic information.\n",
        "character_profile = {\n",
        "    'name': 'Alistair the Brave',\n",
        "    'level': 1,\n",
        "    'health': 100,\n",
        "    'mana': 50,\n",
        "    'gold': 50.75,\n",
        "    'is_alive': True\n",
        "}"
      ]
    },
    {
      "cell_type": "code",
      "source": [
        "# 1. Print the character's name and level in a formatted string.\n",
        "print(f'Charcater \"{character_profile['name']}\" is on level {character_profile['level']}')"
      ],
      "metadata": {
        "colab": {
          "base_uri": "https://localhost:8080/"
        },
        "id": "dujTe2Ga8Ex9",
        "outputId": "73d070f0-5bc5-45fe-dd40-b06b573081b9"
      },
      "execution_count": 10,
      "outputs": [
        {
          "output_type": "stream",
          "name": "stdout",
          "text": [
            "Charcater \"Alistair the Brave\" is on level 1\n"
          ]
        }
      ]
    },
    {
      "cell_type": "code",
      "source": [
        "# 2. Update the character's health to 85.\n",
        "character_profile['health'] = 85"
      ],
      "metadata": {
        "id": "1ItSfoZ88IG2"
      },
      "execution_count": 11,
      "outputs": []
    },
    {
      "cell_type": "code",
      "source": [
        "# 3. Add a new key-value pair for 'experience' with a value of 0.\n",
        "character_profile['experience'] = 0"
      ],
      "metadata": {
        "id": "xmbjXBeT8M_1"
      },
      "execution_count": 12,
      "outputs": []
    },
    {
      "cell_type": "code",
      "source": [
        "# 4. Print the final character_profile dictionary to the console.\n",
        "print(character_profile)"
      ],
      "metadata": {
        "colab": {
          "base_uri": "https://localhost:8080/"
        },
        "id": "Qi1ctbGd8QAD",
        "outputId": "0f5b608c-86ae-4a8b-8524-c82caf30c7c2"
      },
      "execution_count": 13,
      "outputs": [
        {
          "output_type": "stream",
          "name": "stdout",
          "text": [
            "{'name': 'Alistair the Brave', 'level': 1, 'health': 85, 'mana': 50, 'gold': 50.75, 'is_alive': True, 'experience': 0}\n"
          ]
        }
      ]
    },
    {
      "cell_type": "markdown",
      "source": [
        "# **TASK 2: Lists**"
      ],
      "metadata": {
        "id": "UIKgMTsw7GT8"
      }
    },
    {
      "cell_type": "code",
      "source": [
        "#1. Initialize the list with a few items, for example: ['sword', 'shield', 'health potion'].\n",
        "inventory = ['sword', 'shield', 'health potion']"
      ],
      "metadata": {
        "id": "TwtZWd7X6vZX"
      },
      "execution_count": 15,
      "outputs": []
    },
    {
      "cell_type": "code",
      "source": [
        "# 2. Add a new item to the inventory (e.g., 'mana potion').\n",
        "inventory.append('mana potion')"
      ],
      "metadata": {
        "id": "MMH_N-at8fC6"
      },
      "execution_count": 16,
      "outputs": []
    },
    {
      "cell_type": "code",
      "source": [
        "# 3. Remove an existing item from the inventory (e.g., 'shield').\n",
        "inventory.remove('shield')"
      ],
      "metadata": {
        "id": "bOSg4Bhq8goO"
      },
      "execution_count": 17,
      "outputs": []
    },
    {
      "cell_type": "code",
      "source": [
        "# 4. Use a for loop to iterate through the inventory list and print each item.\n",
        "for item in inventory:\n",
        "    print(item)"
      ],
      "metadata": {
        "colab": {
          "base_uri": "https://localhost:8080/"
        },
        "id": "4Ytxwwe58inT",
        "outputId": "6c17dab4-5876-4037-de4a-ecfb863d5230"
      },
      "execution_count": 18,
      "outputs": [
        {
          "output_type": "stream",
          "name": "stdout",
          "text": [
            "sword\n",
            "health potion\n",
            "mana potion\n"
          ]
        }
      ]
    },
    {
      "cell_type": "markdown",
      "source": [
        "# **TASK 3: Tuples**"
      ],
      "metadata": {
        "id": "yHdJid_E7MZH"
      }
    },
    {
      "cell_type": "code",
      "source": [
        "# Create a tuple named base_stats to store Alistair's base attributes.\n",
        "strength = 9\n",
        "dexterity = 6\n",
        "intelligence = 8\n",
        "base_stats = (strength, dexterity, intelligence)"
      ],
      "metadata": {
        "id": "HyacAXjm6yXr"
      },
      "execution_count": 20,
      "outputs": []
    },
    {
      "cell_type": "code",
      "source": [
        "# 1. Print a statement explaining why a tuple is a good choice for base stats (because they are immutable and won't change).\n",
        "print(\"Tuple is a good choice for base stats becuase the value won't change once the charracter is created.\")"
      ],
      "metadata": {
        "colab": {
          "base_uri": "https://localhost:8080/"
        },
        "id": "K3ASqSVA8prn",
        "outputId": "5d83d704-14eb-40dc-ab7b-2fab14af85cf"
      },
      "execution_count": 19,
      "outputs": [
        {
          "output_type": "stream",
          "name": "stdout",
          "text": [
            "Tuple is a good choice for base stats becuase the value won't change once the charracter is created.\n"
          ]
        }
      ]
    },
    {
      "cell_type": "code",
      "source": [
        "# 2. Access and print the value of intelligence from the base_stats tuple.\n",
        "print(base_stats[2])"
      ],
      "metadata": {
        "colab": {
          "base_uri": "https://localhost:8080/"
        },
        "id": "oX3PolxQ8tJn",
        "outputId": "8f8309d9-a453-45d9-f327-84bd458fe8b7"
      },
      "execution_count": 21,
      "outputs": [
        {
          "output_type": "stream",
          "name": "stdout",
          "text": [
            "8\n"
          ]
        }
      ]
    },
    {
      "cell_type": "code",
      "source": [
        "# Try to change one of the values in the tuple. Observe and explain the error you receive.\n",
        "base_stats[1] = 20\n",
        "print(base_stats)\n",
        "#  We received TypeError: 'tuple' object does not support item assignment since tuple values cannot be changed once assigned or created."
      ],
      "metadata": {
        "colab": {
          "base_uri": "https://localhost:8080/",
          "height": 198
        },
        "id": "Jh1rODcV8u9D",
        "outputId": "10a2ba17-8d61-4083-ff9a-fd36fba0f119"
      },
      "execution_count": 23,
      "outputs": [
        {
          "output_type": "error",
          "ename": "TypeError",
          "evalue": "'tuple' object does not support item assignment",
          "traceback": [
            "\u001b[0;31m---------------------------------------------------------------------------\u001b[0m",
            "\u001b[0;31mTypeError\u001b[0m                                 Traceback (most recent call last)",
            "\u001b[0;32m/tmp/ipython-input-1453457584.py\u001b[0m in \u001b[0;36m<cell line: 0>\u001b[0;34m()\u001b[0m\n\u001b[1;32m      1\u001b[0m \u001b[0;31m# Try to change one of the values in the tuple. Observe and explain the error you receive.\u001b[0m\u001b[0;34m\u001b[0m\u001b[0;34m\u001b[0m\u001b[0m\n\u001b[0;32m----> 2\u001b[0;31m \u001b[0mbase_stats\u001b[0m\u001b[0;34m[\u001b[0m\u001b[0;36m1\u001b[0m\u001b[0;34m]\u001b[0m \u001b[0;34m=\u001b[0m \u001b[0;36m20\u001b[0m\u001b[0;34m\u001b[0m\u001b[0;34m\u001b[0m\u001b[0m\n\u001b[0m\u001b[1;32m      3\u001b[0m \u001b[0mprint\u001b[0m\u001b[0;34m(\u001b[0m\u001b[0mbase_stats\u001b[0m\u001b[0;34m)\u001b[0m\u001b[0;34m\u001b[0m\u001b[0;34m\u001b[0m\u001b[0m\n\u001b[1;32m      4\u001b[0m \u001b[0;31m#  We received TypeError: 'tuple' object does not support item assignment since tuple values cannot be changed once assigned or created.\u001b[0m\u001b[0;34m\u001b[0m\u001b[0;34m\u001b[0m\u001b[0m\n",
            "\u001b[0;31mTypeError\u001b[0m: 'tuple' object does not support item assignment"
          ]
        }
      ]
    },
    {
      "cell_type": "markdown",
      "source": [
        "# **TASK 4: Sets**"
      ],
      "metadata": {
        "id": "sKD-H2td7YBl"
      }
    },
    {
      "cell_type": "code",
      "source": [
        "# 1. Initialize the set with a few quests\n",
        "quest_log = {'Defeat the Goblin King', 'Find the Lost Amulet', 'Get Rich'}"
      ],
      "metadata": {
        "id": "zRccYOMq60nF"
      },
      "execution_count": 25,
      "outputs": []
    },
    {
      "cell_type": "code",
      "source": [
        "# 2. Add a new quest to the log\n",
        "quest_log.add('Deliver the Old Scroll and sell it')"
      ],
      "metadata": {
        "id": "o0IvuJ1x8zcn"
      },
      "execution_count": 26,
      "outputs": []
    },
    {
      "cell_type": "code",
      "source": [
        "# 3. Add a quest that is already in the set.\n",
        "quest_log.add('Defeat the Goblin King')\n",
        "print(quest_log)"
      ],
      "metadata": {
        "colab": {
          "base_uri": "https://localhost:8080/"
        },
        "id": "6_VdYWW181pq",
        "outputId": "b8c61fd5-4200-40bc-8935-89e559f2ce57"
      },
      "execution_count": 28,
      "outputs": [
        {
          "output_type": "stream",
          "name": "stdout",
          "text": [
            "{'Find the Lost Amulet', 'Deliver the Old Scroll and sell it', 'Get Rich', 'Defeat the Goblin King'}\n"
          ]
        }
      ]
    },
    {
      "cell_type": "code",
      "source": [
        "# 4. Remove a completed quest from the log\n",
        "quest_log.remove('Get Rich')"
      ],
      "metadata": {
        "id": "FeNkciCO85ao"
      },
      "execution_count": 29,
      "outputs": []
    },
    {
      "cell_type": "code",
      "source": [
        "# 5. Print the final quest_log set\n",
        "print(quest_log)"
      ],
      "metadata": {
        "colab": {
          "base_uri": "https://localhost:8080/"
        },
        "id": "8HaiFBJp877u",
        "outputId": "13819398-7169-433d-a2f7-f728423e68f3"
      },
      "execution_count": 31,
      "outputs": [
        {
          "output_type": "stream",
          "name": "stdout",
          "text": [
            "{'Find the Lost Amulet', 'Deliver the Old Scroll and sell it', 'Defeat the Goblin King'}\n"
          ]
        }
      ]
    },
    {
      "cell_type": "markdown",
      "source": [
        "# **TASK 5: Putting it all together**"
      ],
      "metadata": {
        "id": "YWHWFPcL7b_j"
      }
    },
    {
      "cell_type": "code",
      "source": [
        "# Create a dictionary named character_sheet.\n",
        "character_sheet = {\n",
        "    'profile': character_profile,\n",
        "    'inventory': inventory,\n",
        "    'stats': base_stats,\n",
        "    'quests': quest_log\n",
        "}"
      ],
      "metadata": {
        "id": "v5EDVcSE62E6"
      },
      "execution_count": 33,
      "outputs": []
    },
    {
      "cell_type": "code",
      "source": [
        "# Print the entire character_sheet to demonstrate how different data structures can be nested within each other.\n",
        "print(character_sheet)"
      ],
      "metadata": {
        "colab": {
          "base_uri": "https://localhost:8080/"
        },
        "id": "zN29FPON9CSw",
        "outputId": "239164f9-40d9-4425-b230-e36b27285426"
      },
      "execution_count": 34,
      "outputs": [
        {
          "output_type": "stream",
          "name": "stdout",
          "text": [
            "{'profile': {'name': 'Alistair the Brave', 'level': 1, 'health': 85, 'mana': 50, 'gold': 50.75, 'is_alive': True, 'experience': 0}, 'inventory': ['sword', 'health potion', 'mana potion'], 'stats': (9, 6, 8), 'quests': {'Find the Lost Amulet', 'Deliver the Old Scroll and sell it', 'Defeat the Goblin King'}}\n"
          ]
        }
      ]
    }
  ]
}