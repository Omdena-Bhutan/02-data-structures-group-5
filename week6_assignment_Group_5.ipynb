{
  "nbformat": 4,
  "nbformat_minor": 0,
  "metadata": {
    "colab": {
      "provenance": [],
      "authorship_tag": "ABX9TyNKP4ySAavjM+NQHDzlyNzF",
      "include_colab_link": true
    },
    "kernelspec": {
      "name": "python3",
      "display_name": "Python 3"
    },
    "language_info": {
      "name": "python"
    }
  },
  "cells": [
    {
      "cell_type": "markdown",
      "metadata": {
        "id": "view-in-github",
        "colab_type": "text"
      },
      "source": [
        "<a href=\"https://colab.research.google.com/github/Omdena-Bhutan/02-data-structures-group-5/blob/assignment/week6_assignment_Group_5.ipynb\" target=\"_parent\"><img src=\"https://colab.research.google.com/assets/colab-badge.svg\" alt=\"Open In Colab\"/></a>"
      ]
    },
    {
      "cell_type": "markdown",
      "source": [
        "# New section"
      ],
      "metadata": {
        "id": "B5miwMb7r5rI"
      }
    },
    {
      "cell_type": "code",
      "source": [
        "# Assignment 1: Cinema Ticket Price\n",
        "from datetime import datetime\n",
        "\n",
        "age = 25\n",
        "price = 0\n",
        "\n",
        "if age <= 12:\n",
        "    price = 300\n",
        "elif age <= 17:\n",
        "    price = 500\n",
        "elif age <= 59:\n",
        "    price = 800\n",
        "else:\n",
        "    price = 400\n",
        "\n",
        "today = datetime.now()\n",
        "print(today.strftime(\"%A\"))\n",
        "if today.strftime(\"%A\") == 'Wednesday':\n",
        "    price -= 100\n",
        "\n",
        "print(f\"Your ticket price is {price}\")\n",
        "\n",
        "\n",
        "# Assignment 2: Number Guessing Game\n",
        "secret = 7\n",
        "pick = 0\n",
        "while pick != secret:\n",
        "    pick = 7\n",
        "\n",
        "if pick == secret:\n",
        "    print('Congratulations! You guessed correctly.')\n",
        "\n",
        "\n",
        "# Assignment 3: Functions Practice\n",
        "# 1. Keyword arguments\n",
        "def greetk(name, msg):\n",
        "    print(\"Hello\", name, msg)\n",
        "\n",
        "# 2. Variable Number of Arguments\n",
        "def greetv(*names):\n",
        "    for name in names:\n",
        "        print(\"Hello\", name)\n",
        "\n",
        "# 3. *args and **kwargs\n",
        "def greetag(*names, **msgs):\n",
        "    for name in names:\n",
        "        for msg in msgs:\n",
        "            print(\"Hello\", name, msgs[msg])\n",
        "\n",
        "# Call Keyword arguments\n",
        "greetk(name='Sonam', msg='Welcome to python')\n",
        "\n",
        "# Call Variable Number of Arguments function\n",
        "greetv('Sonam', 'John', 'Peter')\n",
        "\n",
        "# Call *args and **kwargs function\n",
        "greetag('Sonam', 'John', 'Peter',\n",
        "        msg1='Welcome to python',\n",
        "        msg2='Have a nice day')\n",
        "\n",
        "\n",
        "# Assignment 4: Student Grade Calculator\n",
        "def calculate_grade(marks):\n",
        "    if marks >= 90 and marks <= 100:\n",
        "        return 'A'\n",
        "    elif marks >= 80 and marks <= 89:\n",
        "        return 'B'\n",
        "    elif marks >= 70 and marks <= 79:\n",
        "        return 'C'\n",
        "    elif marks >= 60 and marks <= 69:\n",
        "        return 'D'\n",
        "    else:\n",
        "        return 'Failed'\n",
        "\n",
        "mark = 88\n",
        "print('Your grade is:', calculate_grade(mark))\n"
      ],
      "metadata": {
        "colab": {
          "base_uri": "https://localhost:8080/"
        },
        "id": "k4z_cdT6s4b7",
        "outputId": "6108aac4-ded0-4fd7-96c2-9a46ef28a7a2"
      },
      "execution_count": 4,
      "outputs": [
        {
          "output_type": "stream",
          "name": "stdout",
          "text": [
            "Sunday\n",
            "Your ticket price is 800\n",
            "Congratulations! You guessed correctly.\n",
            "Hello Sonam Welcome to python\n",
            "Hello Sonam\n",
            "Hello John\n",
            "Hello Peter\n",
            "Hello Sonam Welcome to python\n",
            "Hello Sonam Have a nice day\n",
            "Hello John Welcome to python\n",
            "Hello John Have a nice day\n",
            "Hello Peter Welcome to python\n",
            "Hello Peter Have a nice day\n",
            "Your grade is: B\n"
          ]
        }
      ]
    },
    {
      "cell_type": "code",
      "source": [],
      "metadata": {
        "id": "GX4fXxF8t2O9"
      },
      "execution_count": null,
      "outputs": []
    }
  ]
}